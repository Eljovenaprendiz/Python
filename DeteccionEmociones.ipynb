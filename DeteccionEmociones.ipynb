{
 "cells": [
  {
   "cell_type": "code",
   "execution_count": 1,
   "id": "bf9c777c-e7e6-4c86-b632-44e2427cbd5c",
   "metadata": {},
   "outputs": [],
   "source": [
    "#pip install transformers torch sentencepiece"
   ]
  },
  {
   "cell_type": "code",
   "execution_count": 2,
   "id": "a3866845-e383-4339-91bc-af858360c7e2",
   "metadata": {},
   "outputs": [],
   "source": [
    "#pip install python-docx PyMuPDF"
   ]
  },
  {
   "cell_type": "code",
   "execution_count": 3,
   "id": "2b87ab70-521c-49a2-b9ae-9eb6837daa94",
   "metadata": {},
   "outputs": [],
   "source": [
    "#pip install transformers torch sentencepiece python-docx PyMuPDF\n"
   ]
  },
  {
   "cell_type": "code",
   "execution_count": 4,
   "id": "9991373c-587d-4e02-b0f9-0a7597521a63",
   "metadata": {},
   "outputs": [],
   "source": [
    "import os\n",
    "import docx  # Para archivos .docx\n",
    "import fitz  # PyMuPDF para archivos .pdf\n",
    "from IPython.display import display, Markdown\n",
    "# Importamos la clase 'pipeline', que es la forma más sencilla de usar modelos pre-entrenados\n",
    "from transformers import pipeline\n"
   ]
  },
  {
   "cell_type": "code",
   "execution_count": 5,
   "id": "f845e71f-436d-404b-a997-1ed423c55287",
   "metadata": {},
   "outputs": [
    {
     "name": "stderr",
     "output_type": "stream",
     "text": [
      "Device set to use mps:0\n"
     ]
    },
    {
     "name": "stdout",
     "output_type": "stream",
     "text": [
      "✅ Modelo cargado y listo para usar.\n"
     ]
    },
    {
     "name": "stderr",
     "output_type": "stream",
     "text": [
      "/opt/miniconda3/envs/analizador_emociones/lib/python3.9/site-packages/transformers/pipelines/text_classification.py:111: UserWarning: `return_all_scores` is now deprecated,  if want a similar functionality use `top_k=None` instead of `return_all_scores=True` or `top_k=1` instead of `return_all_scores=False`.\n",
      "  warnings.warn(\n"
     ]
    }
   ],
   "source": [
    "# Creamos nuestro pipeline de análisis\n",
    "# Tarea: \"text-classification\" para clasificar texto\n",
    "# Modelo: uno especializado en emociones en español\n",
    "# return_all_scores=True nos mostrará la puntuación para cada una de las 6 emociones\n",
    "emotion_pipeline = pipeline(\n",
    "    \"text-classification\",\n",
    "    model=\"pysentimiento/robertuito-emotion-analysis\",\n",
    "    return_all_scores=True\n",
    ")\n",
    "\n",
    "print(\"✅ Modelo cargado y listo para usar.\")"
   ]
  },
  {
   "cell_type": "code",
   "execution_count": 6,
   "id": "a8c5312e-fb3f-428f-82e9-66c6ae703a5c",
   "metadata": {},
   "outputs": [],
   "source": [
    "# --- FUNCIÓN 1: Extraer texto de .docx ---\n",
    "def extraer_texto_de_docx(ruta_archivo):\n",
    "    try:\n",
    "        documento = docx.Document(ruta_archivo)\n",
    "        return \"\\n\".join([p.text for p in documento.paragraphs])\n",
    "    except Exception as e:\n",
    "        print(f\"❌ Error al leer el archivo DOCX: {e}\")\n",
    "        return None\n",
    "\n",
    "# --- FUNCIÓN 2: Extraer texto de .pdf ---\n",
    "def extraer_texto_de_pdf(ruta_archivo):\n",
    "    try:\n",
    "        with fitz.open(ruta_archivo) as doc:\n",
    "            return \"\".join([pagina.get_text() for pagina in doc])\n",
    "    except Exception as e:\n",
    "        print(f\"❌ Error al leer el archivo PDF: {e}\")\n",
    "        return None\n",
    "\n",
    "# --- FUNCIÓN 3: Analizar el texto y mostrar el resultado ---\n",
    "def analizar_y_mostrar_emocion(texto):\n",
    "    \"\"\"\n",
    "    Toma un bloque de texto, lo analiza y muestra la emoción principal.\n",
    "    Si la emoción principal es 'others', también muestra la siguiente más probable.\n",
    "    \"\"\"\n",
    "    if not texto or not texto.strip():\n",
    "        print(\"⚠️ El texto está vacío, no hay nada que analizar.\")\n",
    "        return\n",
    "\n",
    "    print(\"\\n🧠 Analizando...\")\n",
    "    resultado_completo = emotion_pipeline(texto, truncation=True)[0]\n",
    "    \n",
    "    # Ordenamos todas las emociones detectadas de mayor a menor confianza\n",
    "    emociones_ordenadas = sorted(resultado_completo, key=lambda x: x['score'], reverse=True)\n",
    "    \n",
    "    # La emoción principal es la primera de la lista\n",
    "    emocion_principal = emociones_ordenadas[0]\n",
    "    etiqueta_principal = emocion_principal['label']\n",
    "    puntuacion_principal = emocion_principal['score']\n",
    "    \n",
    "    emoji_map = {\n",
    "        'joy': '😊 Alegría', 'anger': '😡 Ira', 'fear': '😨 Miedo',\n",
    "        'surprise': '😮 Sorpresa', 'sadness': '😢 Tristeza', 'disgust': '🤢 Asco',\n",
    "        'others': '😐 Neutral / Otra'\n",
    "    }\n",
    "\n",
    "    # Mostramos el resultado principal\n",
    "    display(Markdown(f\"## ✨ Emoción Principal Detectada: **{emoji_map.get(etiqueta_principal, etiqueta_principal)}**\"))\n",
    "    display(Markdown(f\"#### Confianza del modelo: **{puntuacion_principal:.2%}**\"))\n",
    "\n",
    "    # Si la emoción principal es 'others' y hay más de una emoción detectada,\n",
    "    # mostramos la segunda más probable para tener más contexto.\n",
    "    if etiqueta_principal == 'others' and len(emociones_ordenadas) > 1:\n",
    "        emocion_secundaria = emociones_ordenadas[1]\n",
    "        etiqueta_secundaria = emocion_secundaria['label']\n",
    "        puntuacion_secundaria = emocion_secundaria['score']\n",
    "        \n",
    "        display(Markdown(f\"### Emoción Subyacente más probable: **{emoji_map.get(etiqueta_secundaria, etiqueta_secundaria)}** ({puntuacion_secundaria:.2%})\"))\n",
    "\n"
   ]
  },
  {
   "cell_type": "code",
   "execution_count": 7,
   "id": "12c68aa4-1c31-49dc-9cbf-b39eb42f270f",
   "metadata": {},
   "outputs": [
    {
     "name": "stdout",
     "output_type": "stream",
     "text": [
      "\n",
      "==================================================\n",
      "🤖 ¿Qué te gustaría hacer?\n",
      "1. Introducir un texto manualmente\n",
      "2. Analizar un archivo (.docx o .pdf)\n",
      "3. Salir del programa\n",
      "==================================================\n"
     ]
    },
    {
     "name": "stdin",
     "output_type": "stream",
     "text": [
      "Elige una opción (1, 2 o 3):  3\n"
     ]
    },
    {
     "name": "stdout",
     "output_type": "stream",
     "text": [
      "\n",
      "👋 ¡Hasta pronto! El programa ha finalizado.\n"
     ]
    }
   ],
   "source": [
    "while True:\n",
    "    # 1. Imprimir el menú de opciones\n",
    "    print(\"\\n\" + \"=\"*50)\n",
    "    print(\"🤖 ¿Qué te gustaría hacer?\")\n",
    "    print(\"1. Introducir un texto manualmente\")\n",
    "    print(\"2. Analizar un archivo (.docx o .pdf)\")\n",
    "    print(\"3. Salir del programa\")\n",
    "    print(\"=\"*50)\n",
    "\n",
    "    # 2. Pedir la elección al usuario\n",
    "    eleccion = input(\"Elige una opción (1, 2 o 3): \")\n",
    "\n",
    "    # 3. Procesar la elección\n",
    "    if eleccion == '1':\n",
    "        # Opción para texto manual\n",
    "        texto_manual = input(\"\\n📝 Pega o escribe el texto que quieres analizar:\\n\")\n",
    "        analizar_y_mostrar_emocion(texto_manual)\n",
    "\n",
    "    elif eleccion == '2':\n",
    "        # Opción para analizar archivo\n",
    "        ruta_archivo = input(\"\\n📂 Introduce la ruta completa de tu archivo y presiona Enter: \").strip().strip('\"')\n",
    "        \n",
    "        if not os.path.exists(ruta_archivo):\n",
    "            print(f\"❌ Error: No se pudo encontrar el archivo en la ruta:\\n'{ruta_archivo}'\")\n",
    "            continue # Vuelve al inicio del bucle\n",
    "\n",
    "        # Extraer texto según la extensión\n",
    "        texto_extraido = None\n",
    "        if ruta_archivo.lower().endswith('.docx'):\n",
    "            texto_extraido = extraer_texto_de_docx(ruta_archivo)\n",
    "        elif ruta_archivo.lower().endswith('.pdf'):\n",
    "            texto_extraido = extraer_texto_de_pdf(ruta_archivo)\n",
    "        else:\n",
    "            print(\"⚠️ Formato no soportado. Por favor, elige un archivo .docx o .pdf.\")\n",
    "            continue # Vuelve al inicio del bucle\n",
    "        \n",
    "        analizar_y_mostrar_emocion(texto_extraido)\n",
    "\n",
    "    elif eleccion == '3':\n",
    "        # Opción para salir\n",
    "        print(\"\\n👋 ¡Hasta pronto! El programa ha finalizado.\")\n",
    "        break # Rompe el bucle y termina la ejecución\n",
    "\n",
    "    else:\n",
    "        # Opción no válida\n",
    "        print(\"\\n❌ Opción no válida. Por favor, introduce 1, 2 o 3.\")\n"
   ]
  },
  {
   "cell_type": "code",
   "execution_count": null,
   "id": "2c7783ee-ffcc-4afc-af73-8fb36008230d",
   "metadata": {},
   "outputs": [],
   "source": []
  },
  {
   "cell_type": "code",
   "execution_count": null,
   "id": "b40b4073-7e95-4165-b38c-119156c66f0f",
   "metadata": {},
   "outputs": [],
   "source": []
  }
 ],
 "metadata": {
  "kernelspec": {
   "display_name": "Python 3 (ipykernel)",
   "language": "python",
   "name": "python3"
  },
  "language_info": {
   "codemirror_mode": {
    "name": "ipython",
    "version": 3
   },
   "file_extension": ".py",
   "mimetype": "text/x-python",
   "name": "python",
   "nbconvert_exporter": "python",
   "pygments_lexer": "ipython3",
   "version": "3.9.23"
  }
 },
 "nbformat": 4,
 "nbformat_minor": 5
}
